{
 "cells": [
  {
   "cell_type": "code",
   "execution_count": 1,
   "id": "1ed6f7b4",
   "metadata": {},
   "outputs": [],
   "source": [
    "# Bibliotecas necessárias para este script\n",
    "suppressPackageStartupMessages(library('tidyverse'))\n",
    "suppressPackageStartupMessages(library('tidylog'))\n",
    "\n",
    "# Mostra valores sem notação científica\n",
    "options(scipen=999)\n",
    "`%nin%` = Negate(`%in%`)\n",
    "\n",
    "options(repr.matrix.max.cols=50) # repr.matrix.max.rows=100"
   ]
  },
  {
   "cell_type": "code",
   "execution_count": null,
   "id": "14485ff3",
   "metadata": {},
   "outputs": [],
   "source": []
  }
 ],
 "metadata": {
  "kernelspec": {
   "display_name": "R [conda env:r4_env]",
   "language": "R",
   "name": "conda-env-r4_env-r"
  },
  "language_info": {
   "codemirror_mode": "r",
   "file_extension": ".r",
   "mimetype": "text/x-r-source",
   "name": "R",
   "pygments_lexer": "r",
   "version": "4.0.5"
  }
 },
 "nbformat": 4,
 "nbformat_minor": 5
}
